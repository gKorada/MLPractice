{
  "nbformat": 4,
  "nbformat_minor": 0,
  "metadata": {
    "colab": {
      "provenance": [],
      "authorship_tag": "ABX9TyOFcfDJ/Kxv5xEstlxRLFZx",
      "include_colab_link": true
    },
    "kernelspec": {
      "name": "python3",
      "display_name": "Python 3"
    },
    "language_info": {
      "name": "python"
    }
  },
  "cells": [
    {
      "cell_type": "markdown",
      "metadata": {
        "id": "view-in-github",
        "colab_type": "text"
      },
      "source": [
        "<a href=\"https://colab.research.google.com/github/gKorada/MLPractice/blob/main/Crime_Consumer.ipynb\" target=\"_parent\"><img src=\"https://colab.research.google.com/assets/colab-badge.svg\" alt=\"Open In Colab\"/></a>"
      ]
    },
    {
      "cell_type": "code",
      "source": [
        "!pip install confluent-kafka"
      ],
      "metadata": {
        "colab": {
          "base_uri": "https://localhost:8080/"
        },
        "id": "PRFy5-x4A0uz",
        "outputId": "36a38930-d68b-4504-9435-5a52f98a0695"
      },
      "execution_count": null,
      "outputs": [
        {
          "output_type": "stream",
          "name": "stdout",
          "text": [
            "Collecting confluent-kafka\n",
            "  Downloading confluent_kafka-2.10.0-cp311-cp311-manylinux_2_28_x86_64.whl.metadata (22 kB)\n",
            "Downloading confluent_kafka-2.10.0-cp311-cp311-manylinux_2_28_x86_64.whl (3.8 MB)\n",
            "\u001b[2K   \u001b[90m━━━━━━━━━━━━━━━━━━━━━━━━━━━━━━━━━━━━━━━━\u001b[0m \u001b[32m3.8/3.8 MB\u001b[0m \u001b[31m31.8 MB/s\u001b[0m eta \u001b[36m0:00:00\u001b[0m\n",
            "\u001b[?25hInstalling collected packages: confluent-kafka\n",
            "Successfully installed confluent-kafka-2.10.0\n"
          ]
        }
      ]
    },
    {
      "cell_type": "code",
      "source": [
        "# Stop old session if it exists\n",
        "import os\n",
        "import json\n",
        "import time\n",
        "from confluent_kafka import Consumer, KafkaException\n",
        "from collections import defaultdict\n"
      ],
      "metadata": {
        "id": "ow1PKJIFrYbu"
      },
      "execution_count": null,
      "outputs": []
    },
    {
      "cell_type": "code",
      "source": [
        "KAFKA_BOOTSTRAP_SERVERS = \"lkc-07zjp5.us-east-2.cloud.aws.confluent.cloud:9092\"\n",
        "KAFKA_API_KEY = \"LAGPJCXEU7IYUOIU\"\n",
        "KAFKA_API_SECRET = \"0Uv2wo401gnXikKTyoQCS/ZOUw/NjiuORe7RbsItqhpFKJVU6WNqjN3Qkfa4VW5z\"\n",
        "TOPIC = \"CrimeStreaming\""
      ],
      "metadata": {
        "id": "CnxnQfGcsyRS"
      },
      "execution_count": null,
      "outputs": []
    },
    {
      "cell_type": "code",
      "execution_count": null,
      "metadata": {
        "colab": {
          "base_uri": "https://localhost:8080/"
        },
        "id": "6EZf_98IAffn",
        "outputId": "2a313f3f-a07c-4403-a03e-f027576e6c08"
      },
      "outputs": [
        {
          "output_type": "stream",
          "name": "stdout",
          "text": [
            "🔍 Listening for crime reports...\n",
            "\n",
            "\n",
            "🔌 Stopping consumer...\n"
          ]
        }
      ],
      "source": [
        "conf = {\n",
        "    'bootstrap.servers': KAFKA_BOOTSTRAP_SERVERS,\n",
        "    'security.protocol': 'SASL_SSL',\n",
        "    'sasl.mechanisms': 'PLAIN',\n",
        "    'sasl.username': KAFKA_API_KEY,\n",
        "    'sasl.password': KAFKA_API_SECRET,\n",
        "    'group.id': 'crime-consumer-group-1',\n",
        "    'auto.offset.reset': 'latest'\n",
        "}\n",
        "\n",
        "# --- Actionable mapping ---\n",
        "recommendations = {\n",
        "    \"BURGLARY\": \"🚨 Increase residential patrols\",\n",
        "    \"THEFT OF IDENTITY\": \"🛡️ Launch fraud awareness campaign\",\n",
        "    \"ASSAULT WITH DEADLY WEAPON, AGGRAVATED ASSAULT\": \"🧠 Deploy crisis intervention teams\",\n",
        "    \"THEFT-GRAND ($950.01 & OVER)EXCPT,GUNS,FOWL,LIVESTK,PROD\": \"📢 Encourage neighborhood watch\",\n",
        "}\n",
        "\n",
        "# --- Initialize Consumer ---\n",
        "c = Consumer(conf)\n",
        "c.subscribe([TOPIC])\n",
        "\n",
        "crime_counts = defaultdict(int)\n",
        "THRESHOLD = 3  # Trigger alert if any crime appears more than this\n",
        "\n",
        "print(\"🔍 Listening for crime reports...\\n\")\n",
        "\n",
        "try:\n",
        "    while True:\n",
        "        msg = c.poll(timeout=1.0)\n",
        "        if msg is None:\n",
        "            continue\n",
        "        if msg.error():\n",
        "            raise KafkaException(msg.error())\n",
        "\n",
        "        # Parse JSON message\n",
        "        data = json.loads(msg.value().decode('utf-8'))\n",
        "\n",
        "        # Extract key fields\n",
        "        crime_type = data.get(\"Crm_Cd_Desc\", \"UNKNOWN\")\n",
        "        area = data.get(\"AREA_NAME\", \"UNKNOWN\")\n",
        "        timestamp = data.get(\"DATE_OCC\", \"UNKNOWN\")\n",
        "\n",
        "        # Update count\n",
        "        crime_counts[crime_type] += 1\n",
        "\n",
        "        # Display\n",
        "        print(f\"🕒 {timestamp} | 📍 {area} | 🚔 Crime: {crime_type}\")\n",
        "        print(f\"   Count so far: {crime_counts[crime_type]}\")\n",
        "\n",
        "        # Trigger action if needed\n",
        "        if crime_counts[crime_type] == THRESHOLD:\n",
        "            action = recommendations.get(crime_type, \"📌 Monitor closely and review local response plans.\")\n",
        "            print(f\"⚠️ ALERT: Spike in {crime_type.upper()} — {action}\\n\")\n",
        "\n",
        "except KeyboardInterrupt:\n",
        "    print(\"\\n🔌 Stopping consumer...\")\n",
        "finally:\n",
        "    c.close()\n"
      ]
    }
  ]
}