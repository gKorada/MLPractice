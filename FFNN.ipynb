{
  "nbformat": 4,
  "nbformat_minor": 0,
  "metadata": {
    "colab": {
      "provenance": [],
      "gpuType": "T4",
      "authorship_tag": "ABX9TyPAeCAMM9VLsnzCr3f06jkG",
      "include_colab_link": true
    },
    "kernelspec": {
      "name": "python3",
      "display_name": "Python 3"
    },
    "language_info": {
      "name": "python"
    },
    "accelerator": "GPU"
  },
  "cells": [
    {
      "cell_type": "markdown",
      "metadata": {
        "id": "view-in-github",
        "colab_type": "text"
      },
      "source": [
        "<a href=\"https://colab.research.google.com/github/gKorada/MLPractice/blob/main/FFNN.ipynb\" target=\"_parent\"><img src=\"https://colab.research.google.com/assets/colab-badge.svg\" alt=\"Open In Colab\"/></a>"
      ]
    },
    {
      "cell_type": "code",
      "execution_count": null,
      "metadata": {
        "id": "JXMeJ-EWfmRO"
      },
      "outputs": [],
      "source": [
        "import gzip\n",
        "import struct\n",
        "import numpy as np\n",
        "import matplotlib.pyplot as plt\n"
      ]
    },
    {
      "cell_type": "markdown",
      "source": [
        "Process Images"
      ],
      "metadata": {
        "id": "2WrAGu-5gD-y"
      }
    },
    {
      "cell_type": "code",
      "source": [
        "from google.colab import drive\n",
        "drive.mount('/content/drive')"
      ],
      "metadata": {
        "colab": {
          "base_uri": "https://localhost:8080/"
        },
        "id": "Tx_o_qa5f0Yp",
        "outputId": "7bb72e26-79de-44cb-f9d5-d41e6afb4f8a"
      },
      "execution_count": null,
      "outputs": [
        {
          "output_type": "stream",
          "name": "stdout",
          "text": [
            "Mounted at /content/drive\n"
          ]
        }
      ]
    },
    {
      "cell_type": "code",
      "source": [
        "images_path = '/content/drive/MyDrive/t10k-images-idx3-ubyte.gz'\n",
        "labels_path = '/content/drive/MyDrive/t10k-labels-idx1-ubyte.gz'\n",
        "\n",
        "f = gzip.open(images_path, 'rb')\n",
        "\n",
        "header_bytes = f.read(16)\n",
        "\n",
        "magic_number, num_images, num_rows, num_cols = struct.unpack('>IIII', header_bytes)\n",
        "\n",
        "print('Magic Number:', magic_number)\n",
        "print('Number of Images:', num_images)\n",
        "print('Number of Rows:', num_rows)\n",
        "print('Number of Columns:', num_cols)\n",
        "\n",
        "buf = f.read(num_images * num_rows * num_cols)\n",
        "images = np.frombuffer(buf, dtype=np.uint8).astype(np.float32).reshape(num_images,1, num_rows, num_cols)"
      ],
      "metadata": {
        "colab": {
          "base_uri": "https://localhost:8080/"
        },
        "id": "EorQYgxSf4n3",
        "outputId": "f358ed8f-d741-4e1f-83bb-4caa4187a041"
      },
      "execution_count": null,
      "outputs": [
        {
          "output_type": "stream",
          "name": "stdout",
          "text": [
            "Magic Number: 2051\n",
            "Number of Images: 10000\n",
            "Number of Rows: 28\n",
            "Number of Columns: 28\n"
          ]
        }
      ]
    },
    {
      "cell_type": "code",
      "source": [
        "image = np.asarray(images[0]).squeeze()\n",
        "plt.imshow(image)\n",
        "plt.show()"
      ],
      "metadata": {
        "colab": {
          "base_uri": "https://localhost:8080/",
          "height": 430
        },
        "id": "emWxXGPcjSXf",
        "outputId": "e8c42447-98fa-453e-bd5e-692ec65eeac7"
      },
      "execution_count": null,
      "outputs": [
        {
          "output_type": "display_data",
          "data": {
            "text/plain": [
              "<Figure size 640x480 with 1 Axes>"
            ],
            "image/png": "[encoded data removed]"
          },
          "metadata": {}
        }
      ]
    },
    {
      "cell_type": "markdown",
      "source": [
        "Process Labels"
      ],
      "metadata": {
        "id": "_FWUqj5-jnJ-"
      }
    },
    {
      "cell_type": "code",
      "source": [
        "f = gzip.open(labels_path, 'rb')\n",
        "\n",
        "header_bytes = f.read(8)\n",
        "\n",
        "magic_number, num_labels = struct.unpack('>II', header_bytes)\n",
        "\n",
        "buf = f.read(num_labels)\n",
        "labels = np.frombuffer(buf, dtype=np.uint8).astype(np.int64)\n",
        "print('Magic Number:', magic_number)\n",
        "print('Number of Labels:', num_labels)\n",
        "print('First 10 labels:', labels[:10])\n"
      ],
      "metadata": {
        "colab": {
          "base_uri": "https://localhost:8080/"
        },
        "id": "t3oNQ1Ojjm0z",
        "outputId": "53322b36-e2ef-4c73-ab75-7d563e1854da"
      },
      "execution_count": null,
      "outputs": [
        {
          "output_type": "stream",
          "name": "stdout",
          "text": [
            "Magic Number: 2049\n",
            "Number of Labels: 10000\n",
            "First 10 labels: [7 2 1 0 4 1 4 9 5 9]\n"
          ]
        }
      ]
    },
    {
      "cell_type": "code",
      "source": [
        "import torch\n",
        "from torch import nn\n",
        "from torch.utils.data import Dataset, DataLoader\n",
        "from torchvision.transforms import ToTensor\n",
        "\n",
        "from PIL import Image"
      ],
      "metadata": {
        "id": "vWuZ_TZLk5TX"
      },
      "execution_count": null,
      "outputs": []
    },
    {
      "cell_type": "markdown",
      "source": [
        "Create custom dataset for our data"
      ],
      "metadata": {
        "id": "yV_A3klilOOp"
      }
    },
    {
      "cell_type": "code",
      "source": [
        "class MNISTDataset(Dataset):\n",
        "  def __init__(self, images, labels, transform=None):\n",
        "    self.images = images\n",
        "    self.labels = labels\n",
        "    self.transform = transform\n",
        "\n",
        "  def __len__(self):\n",
        "    return len(self.labels)\n",
        "\n",
        "  def __getitem__(self, idx):\n",
        "    image = Image.fromarray(self.images[idx].astype(np.uint8).squeeze())\n",
        "    image = ToTensor()(image)\n",
        "    label = self.labels[idx]\n",
        "\n",
        "    if self.transform:\n",
        "      image = self.transform(image)\n",
        "\n",
        "    return image, label\n"
      ],
      "metadata": {
        "id": "We9__PnMlSfG"
      },
      "execution_count": null,
      "outputs": []
    },
    {
      "cell_type": "code",
      "source": [
        "\n",
        "from sklearn.model_selection import train_test_split\n",
        "\n",
        "x_train, x_test, y_train, y_test = train_test_split(images, labels, test_size=0.2, random_state=42)\n",
        "\n",
        "x_train_data = MNISTDataset(x_train, y_train)\n",
        "x_test_data = MNISTDataset(x_test, y_test)"
      ],
      "metadata": {
        "id": "wqeYZqidmzmz"
      },
      "execution_count": null,
      "outputs": []
    },
    {
      "cell_type": "code",
      "source": [
        "batch_size = 8\n",
        "\n",
        "train_loader = DataLoader(x_train_data, batch_size=batch_size, shuffle=True)\n",
        "test_loader = DataLoader(x_test_data, batch_size=batch_size, shuffle=True)"
      ],
      "metadata": {
        "id": "IwbiJ-pgnK0M"
      },
      "execution_count": null,
      "outputs": []
    },
    {
      "cell_type": "code",
      "source": [
        "train_images, train_labels = next(iter(train_loader))\n",
        "train_images.shape, train_labels.shape"
      ],
      "metadata": {
        "colab": {
          "base_uri": "https://localhost:8080/"
        },
        "id": "pQRFnRLuomy3",
        "outputId": "67c97248-db89-4e81-bc74-bf855b42c46e"
      },
      "execution_count": null,
      "outputs": [
        {
          "output_type": "execute_result",
          "data": {
            "text/plain": [
              "(torch.Size([8, 1, 28, 28]), torch.Size([8]))"
            ]
          },
          "metadata": {},
          "execution_count": 27
        }
      ]
    },
    {
      "cell_type": "markdown",
      "source": [
        "Neural Network"
      ],
      "metadata": {
        "id": "1WoUobnmo6ku"
      }
    },
    {
      "cell_type": "code",
      "source": [
        "device = torch.device(\"cuda\" if torch.cuda.is_available() else \"cpu\")\n",
        "device"
      ],
      "metadata": {
        "colab": {
          "base_uri": "https://localhost:8080/"
        },
        "id": "XonFTJvpo028",
        "outputId": "2ee12fcc-0bb2-4c40-867a-3995103765e4"
      },
      "execution_count": null,
      "outputs": [
        {
          "output_type": "execute_result",
          "data": {
            "text/plain": [
              "device(type='cuda')"
            ]
          },
          "metadata": {},
          "execution_count": 28
        }
      ]
    },
    {
      "cell_type": "code",
      "source": [
        "class MyNetwork(nn.Module):\n",
        "\n",
        "  def __init__(self):\n",
        "    super(MyNetwork, self).__init__()\n",
        "    self.flatten = nn.Flatten()\n",
        "    self.linear_relu_stack = nn.Sequential(\n",
        "        nn.Linear(28*28, 512),\n",
        "        nn.ReLU(),\n",
        "        nn.Linear(512, 512),\n",
        "        nn.ReLU(),\n",
        "        nn.Linear(512, 10)\n",
        "    )\n",
        "\n",
        "  def forward(self, x):\n",
        "    x = self.flatten(x)\n",
        "    logits = self.linear_relu_stack(x)\n",
        "    return logits\n",
        "\n"
      ],
      "metadata": {
        "id": "82qxki60pKLp"
      },
      "execution_count": null,
      "outputs": []
    },
    {
      "cell_type": "code",
      "source": [
        "model = MyNetwork().to(device)\n",
        "print(model)"
      ],
      "metadata": {
        "colab": {
          "base_uri": "https://localhost:8080/"
        },
        "id": "ytmvTkHGrbG0",
        "outputId": "121cce42-53e2-4b0f-fc92-f4cfc761285c"
      },
      "execution_count": null,
      "outputs": [
        {
          "output_type": "stream",
          "name": "stdout",
          "text": [
            "MyNetwork(\n",
            "  (flatten): Flatten(start_dim=1, end_dim=-1)\n",
            "  (linear_relu_stack): Sequential(\n",
            "    (0): Linear(in_features=784, out_features=512, bias=True)\n",
            "    (1): ReLU()\n",
            "    (2): Linear(in_features=512, out_features=512, bias=True)\n",
            "    (3): ReLU()\n",
            "    (4): Linear(in_features=512, out_features=10, bias=True)\n",
            "  )\n",
            ")\n"
          ]
        }
      ]
    },
    {
      "cell_type": "code",
      "source": [
        "for name,param in model.named_parameters():\n",
        "  print(f\"Layer: {name} | Size: {param.size()} | Values : {param[:2]} \\n\")"
      ],
      "metadata": {
        "colab": {
          "base_uri": "https://localhost:8080/"
        },
        "id": "LjM7rb_QvELC",
        "outputId": "a12b9d89-9a57-4d80-f657-613eb606eb45"
      },
      "execution_count": null,
      "outputs": [
        {
          "output_type": "stream",
          "name": "stdout",
          "text": [
            "Layer: linear_relu_stack.0.weight | Size: torch.Size([512, 784]) | Values : tensor([[-0.0012,  0.0158, -0.0103,  ...,  0.0084, -0.0254,  0.0096],\n",
            "        [ 0.0078, -0.0080, -0.0114,  ...,  0.0049, -0.0055, -0.0056]],\n",
            "       device='cuda:0', grad_fn=<SliceBackward0>) \n",
            "\n",
            "Layer: linear_relu_stack.0.bias | Size: torch.Size([512]) | Values : tensor([0.0267, 0.0036], device='cuda:0', grad_fn=<SliceBackward0>) \n",
            "\n",
            "Layer: linear_relu_stack.2.weight | Size: torch.Size([512, 512]) | Values : tensor([[ 0.0145,  0.0395,  0.0224,  ..., -0.0316, -0.0030, -0.0403],\n",
            "        [-0.0147, -0.0370,  0.0163,  ...,  0.0078,  0.0207, -0.0037]],\n",
            "       device='cuda:0', grad_fn=<SliceBackward0>) \n",
            "\n",
            "Layer: linear_relu_stack.2.bias | Size: torch.Size([512]) | Values : tensor([-0.0168, -0.0332], device='cuda:0', grad_fn=<SliceBackward0>) \n",
            "\n",
            "Layer: linear_relu_stack.4.weight | Size: torch.Size([10, 512]) | Values : tensor([[ 0.0168,  0.0374, -0.0149,  ...,  0.0109, -0.0314, -0.0426],\n",
            "        [-0.0164,  0.0010,  0.0394,  ...,  0.0003, -0.0313,  0.0394]],\n",
            "       device='cuda:0', grad_fn=<SliceBackward0>) \n",
            "\n",
            "Layer: linear_relu_stack.4.bias | Size: torch.Size([10]) | Values : tensor([ 0.0145, -0.0341], device='cuda:0', grad_fn=<SliceBackward0>) \n",
            "\n"
          ]
        }
      ]
    },
    {
      "cell_type": "code",
      "source": [
        "learning_rate = 1e-4\n",
        "\n",
        "epochs = 5\n",
        "\n",
        "loss_fn = nn.CrossEntropyLoss()\n",
        "\n",
        "optimizer = torch.optim.AdamW(model.parameters(), lr=learning_rate)\n"
      ],
      "metadata": {
        "id": "cWIFsucfwAZF"
      },
      "execution_count": null,
      "outputs": []
    },
    {
      "cell_type": "markdown",
      "source": [
        "Training and Evaluation"
      ],
      "metadata": {
        "id": "94yXS1apwZt7"
      }
    },
    {
      "cell_type": "code",
      "source": [
        "\n",
        "\n",
        "for epoch in range(epochs):\n",
        "  model.train()\n",
        "  for batch, (X, y) in enumerate(train_loader):\n",
        "    X, y = X.to(device), y.to(device)\n",
        "\n",
        "    pred = model(X)\n",
        "    loss = loss_fn(pred, y)\n",
        "\n",
        "    #backwards prop\n",
        "    optimizer.zero_grad()\n",
        "    loss.backward()\n",
        "    optimizer.step()\n",
        "\n",
        "    if batch % 100 == 0:\n",
        "      loss = loss.item()\n",
        "      print(f\"Epoch : {epoch} | Batch : {batch} | Loss : {loss}\")\n",
        "\n",
        "  #eval\n",
        "  model.eval()\n",
        "  total_loss, correct = 0,0\n",
        "\n",
        "  with torch.no_grad():\n",
        "    for X, y in test_loader:\n",
        "      X, y = X.to(device), y.to(device)\n",
        "      pred = model(X)\n",
        "      loss = loss_fn(pred, y)\n",
        "      total_loss += loss.item()\n",
        "      correct += (pred.argmax(1) == y).type(torch.float).sum().item()\n",
        "\n",
        "  total_loss /= len(test_loader)\n",
        "  correct /= len(test_loader.dataset)\n",
        "  print(f\"Epoch : {epoch} | Test Error: \\n Accuracy: {(100*correct):>0.1f}%, Avg loss: {total_loss:>8f} \\n\")"
      ],
      "metadata": {
        "colab": {
          "base_uri": "https://localhost:8080/"
        },
        "id": "NS3kpOFuwb8h",
        "outputId": "682aa862-97df-4693-a324-c57846c90b4f"
      },
      "execution_count": null,
      "outputs": [
        {
          "output_type": "stream",
          "name": "stdout",
          "text": [
            "Epoch : 0 | Batch : 0 | Loss : 0.00431431271135807\n",
            "Epoch : 0 | Batch : 100 | Loss : 0.2057623565196991\n",
            "Epoch : 0 | Batch : 200 | Loss : 0.01760086975991726\n",
            "Epoch : 0 | Batch : 300 | Loss : 0.12377364188432693\n",
            "Epoch : 0 | Batch : 400 | Loss : 0.03513731062412262\n",
            "Epoch : 0 | Batch : 500 | Loss : 0.014068175107240677\n",
            "Epoch : 0 | Batch : 600 | Loss : 0.15004223585128784\n",
            "Epoch : 0 | Batch : 700 | Loss : 0.1300620585680008\n",
            "Epoch : 0 | Batch : 800 | Loss : 0.029588453471660614\n",
            "Epoch : 0 | Batch : 900 | Loss : 0.006485359743237495\n",
            "Epoch : 0 | Test Error: \n",
            " Accuracy: 93.9%, Avg loss: 0.199771 \n",
            "\n",
            "Epoch : 1 | Batch : 0 | Loss : 0.016916461288928986\n",
            "Epoch : 1 | Batch : 100 | Loss : 0.06814837455749512\n",
            "Epoch : 1 | Batch : 200 | Loss : 0.06048255041241646\n",
            "Epoch : 1 | Batch : 300 | Loss : 0.026265397667884827\n",
            "Epoch : 1 | Batch : 400 | Loss : 0.022905422374606133\n",
            "Epoch : 1 | Batch : 500 | Loss : 0.08361189067363739\n",
            "Epoch : 1 | Batch : 600 | Loss : 0.018446573987603188\n",
            "Epoch : 1 | Batch : 700 | Loss : 0.010502539575099945\n",
            "Epoch : 1 | Batch : 800 | Loss : 0.0036549249198287725\n",
            "Epoch : 1 | Batch : 900 | Loss : 0.15803059935569763\n",
            "Epoch : 1 | Test Error: \n",
            " Accuracy: 94.9%, Avg loss: 0.180665 \n",
            "\n",
            "Epoch : 2 | Batch : 0 | Loss : 0.11649526655673981\n",
            "Epoch : 2 | Batch : 100 | Loss : 0.07860702276229858\n",
            "Epoch : 2 | Batch : 200 | Loss : 0.09446054697036743\n",
            "Epoch : 2 | Batch : 300 | Loss : 0.03120647743344307\n",
            "Epoch : 2 | Batch : 400 | Loss : 0.00444073136895895\n",
            "Epoch : 2 | Batch : 500 | Loss : 0.018918320536613464\n",
            "Epoch : 2 | Batch : 600 | Loss : 0.03054484911262989\n",
            "Epoch : 2 | Batch : 700 | Loss : 0.05569591000676155\n",
            "Epoch : 2 | Batch : 800 | Loss : 0.061962343752384186\n",
            "Epoch : 2 | Batch : 900 | Loss : 0.010009038262069225\n",
            "Epoch : 2 | Test Error: \n",
            " Accuracy: 95.7%, Avg loss: 0.176731 \n",
            "\n",
            "Epoch : 3 | Batch : 0 | Loss : 0.10490923374891281\n",
            "Epoch : 3 | Batch : 100 | Loss : 0.023051206022500992\n",
            "Epoch : 3 | Batch : 200 | Loss : 0.006840699817985296\n",
            "Epoch : 3 | Batch : 300 | Loss : 0.000361888378392905\n",
            "Epoch : 3 | Batch : 400 | Loss : 0.04728106036782265\n",
            "Epoch : 3 | Batch : 500 | Loss : 0.0066212248057127\n",
            "Epoch : 3 | Batch : 600 | Loss : 0.0071213203482329845\n",
            "Epoch : 3 | Batch : 700 | Loss : 0.005159155000001192\n",
            "Epoch : 3 | Batch : 800 | Loss : 0.10216820985078812\n",
            "Epoch : 3 | Batch : 900 | Loss : 0.03211268410086632\n",
            "Epoch : 3 | Test Error: \n",
            " Accuracy: 94.5%, Avg loss: 0.192868 \n",
            "\n",
            "Epoch : 4 | Batch : 0 | Loss : 0.0012406250461935997\n",
            "Epoch : 4 | Batch : 100 | Loss : 0.0331549309194088\n",
            "Epoch : 4 | Batch : 200 | Loss : 0.007647725287824869\n",
            "Epoch : 4 | Batch : 300 | Loss : 0.04169502854347229\n",
            "Epoch : 4 | Batch : 400 | Loss : 0.003523991908878088\n",
            "Epoch : 4 | Batch : 500 | Loss : 0.011863087303936481\n",
            "Epoch : 4 | Batch : 600 | Loss : 0.1685667484998703\n",
            "Epoch : 4 | Batch : 700 | Loss : 0.0019952580332756042\n",
            "Epoch : 4 | Batch : 800 | Loss : 0.0019187534926459193\n",
            "Epoch : 4 | Batch : 900 | Loss : 0.0016765500186011195\n",
            "Epoch : 4 | Test Error: \n",
            " Accuracy: 94.9%, Avg loss: 0.185150 \n",
            "\n"
          ]
        }
      ]
    },
    {
      "cell_type": "markdown",
      "source": [
        "Save model"
      ],
      "metadata": {
        "id": "4NWwYP191YBR"
      }
    },
    {
      "cell_type": "code",
      "source": [
        "torch.save(model, '/content/drive/MyDrive/model1.cpt')\n",
        "print(\"saved\")"
      ],
      "metadata": {
        "colab": {
          "base_uri": "https://localhost:8080/"
        },
        "id": "v1F7Ka5S1ZM5",
        "outputId": "42110135-21a6-48a8-9e14-f174e2774c4b"
      },
      "execution_count": null,
      "outputs": [
        {
          "output_type": "stream",
          "name": "stdout",
          "text": [
            "saved\n"
          ]
        }
      ]
    }
  ]
}