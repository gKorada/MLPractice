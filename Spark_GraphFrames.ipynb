{
  "cells": [
    {
      "cell_type": "markdown",
      "metadata": {
        "id": "view-in-github",
        "colab_type": "text"
      },
      "source": [
        "<a href=\"https://colab.research.google.com/github/gKorada/MLPractice/blob/main/Spark_GraphFrames.ipynb\" target=\"_parent\"><img src=\"https://colab.research.google.com/assets/colab-badge.svg\" alt=\"Open In Colab\"/></a>"
      ]
    },
    {
      "cell_type": "markdown",
      "source": [
        "# Importing the necessary libraries and Intitializing the environment"
      ],
      "metadata": {
        "id": "jReMlTqzCoED"
      }
    },
    {
      "cell_type": "code",
      "execution_count": null,
      "metadata": {
        "id": "JcwNZug0LITE",
        "colab": {
          "base_uri": "https://localhost:8080/"
        },
        "outputId": "9b709da3-591e-4f41-dc81-e2a1810d1f0a"
      },
      "outputs": [
        {
          "output_type": "stream",
          "name": "stdout",
          "text": [
            "\u001b[?25l   \u001b[90m━━━━━━━━━━━━━━━━━━━━━━━━━━━━━━━━━━━━━━━━\u001b[0m \u001b[32m0.0/154.7 kB\u001b[0m \u001b[31m?\u001b[0m eta \u001b[36m-:--:--\u001b[0m\r\u001b[2K   \u001b[90m━━━━━━━━━━━━━━━━━━━━━━━━━━━━━━━━━━━━━━━━\u001b[0m \u001b[32m154.7/154.7 kB\u001b[0m \u001b[31m5.0 MB/s\u001b[0m eta \u001b[36m0:00:00\u001b[0m\n",
            "\u001b[?25h"
          ]
        }
      ],
      "source": [
        "#Installing the necessary libraries\n",
        "!apt-get install openjdk-11-jdk-headless -qq > /dev/null\n",
        "!wget -q https://bitbucket.org/habedi/datasets/raw/b6769c4664e7ff68b001e2f43bc517888cbe3642/spark/spark-3.0.2-bin-hadoop2.7.tgz\n",
        "!tar xf spark-3.0.2-bin-hadoop2.7.tgz\n",
        "!rm -rf spark-3.0.2-bin-hadoop2.7.tgz*\n",
        "!pip -q install findspark pyspark graphframes"
      ]
    },
    {
      "cell_type": "code",
      "execution_count": null,
      "metadata": {
        "id": "nm8iyM_rLLpE"
      },
      "outputs": [],
      "source": [
        "#Initializing the environment\n",
        "import os\n",
        "os.environ[\"PYSPARK_DRIVER_PYTHON\"] = \"jupyter\"\n",
        "os.environ[\"PYSPARK_DRIVER_PYTHON_OPTS\"] = \"notebook\"\n",
        "os.environ[\"PYSPARK_SUBMIT_ARGS\"] = \"--packages graphframes:graphframes:0.8.1-spark3.0-s_2.12 pyspark-shell\""
      ]
    },
    {
      "cell_type": "code",
      "execution_count": null,
      "metadata": {
        "id": "laj1V9BuLqBI"
      },
      "outputs": [],
      "source": [
        "from graphframes import *\n",
        "from pyspark import *\n",
        "from pyspark.sql import *\n",
        "spark = SparkSession.builder.appName('myfunction').getOrCreate()"
      ]
    },
    {
      "cell_type": "markdown",
      "source": [
        "# Creating edges and vertices in Spark Graph Frame.\n"
      ],
      "metadata": {
        "id": "cvHgWKuq7NTJ"
      }
    },
    {
      "cell_type": "code",
      "execution_count": null,
      "metadata": {
        "id": "AY6FWkUTLvy7"
      },
      "outputs": [],
      "source": [
        "#It is important to have column named \"id\" in the first csv file\n",
        "# and (src,dst) in the second csv file.\n",
        "# The Graph will not get created if these 3 columns are missing\n",
        "#The other columns can have any names and the data can have any number of columns with any informationb\n",
        "#Example : Not necessary to have the name of column as \"relation\"\n",
        "#if graph frame is related to products (raw material and fininshed product)\n",
        "#The GraphFrame function accepts argument in the form of two csv files.\n",
        "#The name of the argument should be vertices and edges only, else it is an error.\n",
        "vertices = spark.read.option('header', 'true').csv('Nodes.csv')\n",
        "edges = spark.read.option('header', 'true').csv('Edges.csv')"
      ]
    },
    {
      "cell_type": "code",
      "execution_count": null,
      "metadata": {
        "colab": {
          "base_uri": "https://localhost:8080/"
        },
        "id": "3MQyqRc7L3GQ",
        "outputId": "29c1e31c-7608-4480-92da-67289689b2b4"
      },
      "outputs": [
        {
          "output_type": "stream",
          "name": "stdout",
          "text": [
            "+---+------+---+------+----------+\n",
            "| id|  Name|Age|Gender|     State|\n",
            "+---+------+---+------+----------+\n",
            "|  1|Wilson| 31|  Male|  New York|\n",
            "|  2| David| 16|  Male|California|\n",
            "|  3| James| 31|  Male|  New York|\n",
            "|  4|  Mary| 29|Female|California|\n",
            "|  5| Smith| 53|  Male|  New York|\n",
            "+---+------+---+------+----------+\n",
            "only showing top 5 rows\n",
            "\n",
            "+---+---+--------+\n",
            "|src|dst|relation|\n",
            "+---+---+--------+\n",
            "|  1|  2|  follow|\n",
            "|  1|  5|  friend|\n",
            "|  1|  7|  follow|\n",
            "|  1|  8|     son|\n",
            "|  3|  9|     son|\n",
            "+---+---+--------+\n",
            "only showing top 5 rows\n",
            "\n"
          ]
        }
      ],
      "source": [
        "#Displaying the vertices and edges\n",
        "vertices.show(5)\n",
        "edges.show(5)"
      ]
    },
    {
      "cell_type": "markdown",
      "source": [
        "# Creating a GraphFrame of vertices and edges"
      ],
      "metadata": {
        "id": "HY304sV5BjyL"
      }
    },
    {
      "cell_type": "code",
      "execution_count": null,
      "metadata": {
        "id": "r2Rv4-wdM1Yo",
        "colab": {
          "base_uri": "https://localhost:8080/"
        },
        "outputId": "b63ff8af-7208-4c55-eeea-8b2d73333ad0"
      },
      "outputs": [
        {
          "output_type": "stream",
          "name": "stderr",
          "text": [
            "/usr/local/lib/python3.11/dist-packages/pyspark/sql/dataframe.py:168: UserWarning: DataFrame.sql_ctx is an internal property, and will be removed in future releases. Use DataFrame.sparkSession instead.\n",
            "  warnings.warn(\n"
          ]
        }
      ],
      "source": [
        "#Creating a graph of vertices and edges\n",
        "mygraph = GraphFrame(vertices, edges)"
      ]
    },
    {
      "cell_type": "markdown",
      "source": [
        "## Vertices and Edges"
      ],
      "metadata": {
        "id": "XwheILSgMiFY"
      }
    },
    {
      "cell_type": "code",
      "execution_count": null,
      "metadata": {
        "colab": {
          "base_uri": "https://localhost:8080/"
        },
        "id": "C0Y8OQKUSBDV",
        "outputId": "a9200bbe-ea09-449c-9316-a5deccd71cf6"
      },
      "outputs": [
        {
          "output_type": "stream",
          "name": "stdout",
          "text": [
            "+---+------+---+------+----------+\n",
            "| id|  Name|Age|Gender|     State|\n",
            "+---+------+---+------+----------+\n",
            "|  1|Wilson| 31|  Male|  New York|\n",
            "|  2| David| 16|  Male|California|\n",
            "|  3| James| 31|  Male|  New York|\n",
            "|  4|  Mary| 29|Female|California|\n",
            "|  5| Smith| 53|  Male|  New York|\n",
            "|  6|Sheena| 27|Female|  New York|\n",
            "|  7|  Rosy| 38|Female|California|\n",
            "|  8|  Luna| 53|Female|  New York|\n",
            "|  9|George| 53|  Male|  New York|\n",
            "| 10| Miara| 51|Female|California|\n",
            "| 11| Peter| 28|  Male|  New York|\n",
            "| 12|  Gary| 31|  Male|California|\n",
            "| 13|  Emma| 32|Female|  New York|\n",
            "| 14| Clara| 30|Female|  New York|\n",
            "| 15| Henry| 35|  Male|California|\n",
            "+---+------+---+------+----------+\n",
            "\n",
            "Row(id='1', Name='Wilson', Age='31', Gender='Male', State='New York')\n",
            "Wilson stays in New York\n",
            "Row(id='2', Name='David', Age='16', Gender='Male', State='California')\n",
            "David stays in California\n",
            "Row(id='3', Name='James', Age='31', Gender='Male', State='New York')\n",
            "James stays in New York\n"
          ]
        }
      ],
      "source": [
        "#Displaying the vertices of graph\n",
        "mygraph.vertices.show()\n",
        "\n",
        "infovertices=mygraph.vertices.collect()\n",
        "for i in range(3):\n",
        "    print(infovertices[i])\n",
        "    print(infovertices[i]['Name'], \"stays in\", infovertices[i]['State'] )"
      ]
    },
    {
      "cell_type": "code",
      "source": [
        "#Displaying the edges of graph\n",
        "mygraph.edges.show(5)\n",
        "\n",
        "infoedges=mygraph.edges.collect()\n",
        "for i in range(3):\n",
        "    print(infoedges[i])\n",
        "    print(infoedges[i]['src'],infoedges[i]['relation'], infoedges[i]['dst'])"
      ],
      "metadata": {
        "colab": {
          "base_uri": "https://localhost:8080/"
        },
        "id": "KvhdMzFbtqZf",
        "outputId": "785d577b-44aa-4f7f-fc93-10d36b69397a"
      },
      "execution_count": null,
      "outputs": [
        {
          "output_type": "stream",
          "name": "stdout",
          "text": [
            "+---+---+--------+\n",
            "|src|dst|relation|\n",
            "+---+---+--------+\n",
            "|  1|  2|  follow|\n",
            "|  1|  5|  friend|\n",
            "|  1|  7|  follow|\n",
            "|  1|  8|     son|\n",
            "|  3|  9|     son|\n",
            "+---+---+--------+\n",
            "only showing top 5 rows\n",
            "\n",
            "Row(src='1', dst='2', relation='follow')\n",
            "1 follow 2\n",
            "Row(src='1', dst='5', relation='friend')\n",
            "1 friend 5\n",
            "Row(src='1', dst='7', relation='follow')\n",
            "1 follow 7\n"
          ]
        }
      ]
    },
    {
      "cell_type": "markdown",
      "source": [
        "# Triplets"
      ],
      "metadata": {
        "id": "ehdOVhgOMbb2"
      }
    },
    {
      "cell_type": "code",
      "source": [
        "#Displaying triplets\n",
        "mygraph.triplets.show(5)\n",
        "\n",
        "triplet=mygraph.triplets.collect()\n",
        "print(\"Displaying the Triplets:\")\n",
        "for i in range(3):\n",
        "    print(triplet[i])\n",
        "\n",
        "#Displaying required information from triplets\n",
        "print(\"Extracting required information from Triplets:\")\n",
        "for i in range(5):\n",
        "    print(triplet[i].src['Name'], triplet[i].edge['relation'], triplet[i].dst['Name'])\n",
        "\n",
        "\n"
      ],
      "metadata": {
        "colab": {
          "base_uri": "https://localhost:8080/"
        },
        "id": "kbUM8tellpcA",
        "outputId": "3d8a60d7-7d09-46a5-e371-c9501c823c2b"
      },
      "execution_count": null,
      "outputs": [
        {
          "output_type": "stream",
          "name": "stdout",
          "text": [
            "+--------------------+----------------+--------------------+\n",
            "|                 src|            edge|                 dst|\n",
            "+--------------------+----------------+--------------------+\n",
            "|{1, Wilson, 31, M...| {1, 14, follow}|{14, Clara, 30, F...|\n",
            "|{1, Wilson, 31, M...|{1, 15, brother}|{15, Henry, 35, M...|\n",
            "|{1, Wilson, 31, M...|     {1, 8, son}|{8, Luna, 53, Fem...|\n",
            "|{1, Wilson, 31, M...|  {1, 7, follow}|{7, Rosy, 38, Fem...|\n",
            "|{1, Wilson, 31, M...|  {1, 5, friend}|{5, Smith, 53, Ma...|\n",
            "+--------------------+----------------+--------------------+\n",
            "only showing top 5 rows\n",
            "\n",
            "Displaying the Triplets:\n",
            "Row(src=Row(id='1', Name='Wilson', Age='31', Gender='Male', State='New York'), edge=Row(src='1', dst='14', relation='follow'), dst=Row(id='14', Name='Clara', Age='30', Gender='Female', State='New York'))\n",
            "Row(src=Row(id='1', Name='Wilson', Age='31', Gender='Male', State='New York'), edge=Row(src='1', dst='15', relation='brother'), dst=Row(id='15', Name='Henry', Age='35', Gender='Male', State='California'))\n",
            "Row(src=Row(id='1', Name='Wilson', Age='31', Gender='Male', State='New York'), edge=Row(src='1', dst='8', relation='son'), dst=Row(id='8', Name='Luna', Age='53', Gender='Female', State='New York'))\n",
            "Extracting required information from Triplets:\n",
            "Wilson follow Clara\n",
            "Wilson brother Henry\n",
            "Wilson son Luna\n",
            "Wilson follow Rosy\n",
            "Wilson friend Smith\n"
          ]
        }
      ]
    },
    {
      "cell_type": "markdown",
      "source": [
        "# Determining the shortest path"
      ],
      "metadata": {
        "id": "drPDKlzHMUHz"
      }
    },
    {
      "cell_type": "code",
      "source": [
        "#Determining the shortest path\n",
        "mygraph.shortestPaths(landmarks=[\"7\"]).show()"
      ],
      "metadata": {
        "colab": {
          "base_uri": "https://localhost:8080/"
        },
        "id": "y9fyM6hjTNGv",
        "outputId": "93bcc643-d587-4b1d-9a6c-53451d21f884"
      },
      "execution_count": null,
      "outputs": [
        {
          "output_type": "stream",
          "name": "stdout",
          "text": [
            "+---+------+---+------+----------+---------+\n",
            "| id|  Name|Age|Gender|     State|distances|\n",
            "+---+------+---+------+----------+---------+\n",
            "|  8|  Luna| 53|Female|  New York|       {}|\n",
            "|  4|  Mary| 29|Female|California| {7 -> 1}|\n",
            "|  6|Sheena| 27|Female|  New York|       {}|\n",
            "| 12|  Gary| 31|  Male|California| {7 -> 2}|\n",
            "| 11| Peter| 28|  Male|  New York|       {}|\n",
            "| 10| Miara| 51|Female|California|       {}|\n",
            "|  5| Smith| 53|  Male|  New York| {7 -> 2}|\n",
            "| 13|  Emma| 32|Female|  New York|       {}|\n",
            "| 14| Clara| 30|Female|  New York|       {}|\n",
            "|  3| James| 31|  Male|  New York|       {}|\n",
            "| 15| Henry| 35|  Male|California|       {}|\n",
            "|  9|George| 53|  Male|  New York|       {}|\n",
            "|  1|Wilson| 31|  Male|  New York| {7 -> 1}|\n",
            "|  7|  Rosy| 38|Female|California| {7 -> 0}|\n",
            "|  2| David| 16|  Male|California| {7 -> 1}|\n",
            "+---+------+---+------+----------+---------+\n",
            "\n"
          ]
        }
      ]
    },
    {
      "cell_type": "markdown",
      "source": [
        "# Displaying the degrees (OutDegree + InDegree), outdegree and indegrees"
      ],
      "metadata": {
        "id": "Ohpu088CBSbS"
      }
    },
    {
      "cell_type": "code",
      "execution_count": null,
      "metadata": {
        "colab": {
          "base_uri": "https://localhost:8080/"
        },
        "id": "_Izpaz1Asq8c",
        "outputId": "e646ca14-27c7-482a-c65a-8a6144bb567f"
      },
      "outputs": [
        {
          "output_type": "stream",
          "name": "stderr",
          "text": [
            "/usr/local/lib/python3.11/dist-packages/pyspark/sql/dataframe.py:147: UserWarning: DataFrame constructor is internal. Do not directly use it.\n",
            "  warnings.warn(\"DataFrame constructor is internal. Do not directly use it.\")\n"
          ]
        },
        {
          "output_type": "stream",
          "name": "stdout",
          "text": [
            "+---+---------+\n",
            "| id|outDegree|\n",
            "+---+---------+\n",
            "|  7|        1|\n",
            "|  3|        2|\n",
            "|  5|        2|\n",
            "|  6|        2|\n",
            "+---+---------+\n",
            "only showing top 4 rows\n",
            "\n",
            "+---+---------+\n",
            "| id|outDegree|\n",
            "+---+---------+\n",
            "|  1|        6|\n",
            "|  2|        3|\n",
            "|  3|        2|\n",
            "|  5|        2|\n",
            "|  6|        2|\n",
            "+---+---------+\n",
            "only showing top 5 rows\n",
            "\n",
            "+---+---------+\n",
            "| id|outDegree|\n",
            "+---+---------+\n",
            "|  7|        1|\n",
            "| 12|        1|\n",
            "|  3|        2|\n",
            "|  5|        2|\n",
            "|  6|        2|\n",
            "+---+---------+\n",
            "only showing top 5 rows\n",
            "\n"
          ]
        }
      ],
      "source": [
        "#Displaying the users and number of out-Degrees\n",
        "mygraph.outDegrees.show(4)\n",
        "\n",
        "#Displaying top-5 users having maximum out-Degrees\n",
        "mygraph.outDegrees.orderBy(['outDegree'], ascending = [False]).show(5)\n",
        "\n",
        "#Displaying bottom-3 users having minimum out-Degrees\n",
        "mygraph.outDegrees.orderBy(['outDegree'], ascending = [True]).show(5)"
      ]
    },
    {
      "cell_type": "code",
      "execution_count": null,
      "metadata": {
        "colab": {
          "base_uri": "https://localhost:8080/"
        },
        "id": "pEz84gmOss9G",
        "outputId": "749dc266-a47f-4a96-f0c6-3fb3745b2fb1"
      },
      "outputs": [
        {
          "output_type": "stream",
          "name": "stderr",
          "text": [
            "/usr/local/lib/python3.11/dist-packages/pyspark/sql/dataframe.py:147: UserWarning: DataFrame constructor is internal. Do not directly use it.\n",
            "  warnings.warn(\"DataFrame constructor is internal. Do not directly use it.\")\n"
          ]
        },
        {
          "output_type": "stream",
          "name": "stdout",
          "text": [
            "+---+--------+\n",
            "| id|inDegree|\n",
            "+---+--------+\n",
            "|  7|       3|\n",
            "| 15|       2|\n",
            "| 11|       2|\n",
            "|  3|       1|\n",
            "+---+--------+\n",
            "only showing top 4 rows\n",
            "\n",
            "+---+--------+\n",
            "| id|inDegree|\n",
            "+---+--------+\n",
            "|  7|       3|\n",
            "| 14|       3|\n",
            "| 15|       2|\n",
            "| 11|       2|\n",
            "|  9|       2|\n",
            "+---+--------+\n",
            "only showing top 5 rows\n",
            "\n",
            "+---+--------+\n",
            "| id|inDegree|\n",
            "+---+--------+\n",
            "|  8|       1|\n",
            "|  3|       1|\n",
            "|  5|       1|\n",
            "+---+--------+\n",
            "only showing top 3 rows\n",
            "\n"
          ]
        }
      ],
      "source": [
        "#Displaying the users and number of in-Degrees\n",
        "mygraph.inDegrees.show(4)\n",
        "\n",
        "#Displaying top-5 users having maximum in-Degrees\n",
        "mygraph.inDegrees.orderBy(['inDegree'], ascending = [False]).show(5)\n",
        "\n",
        "#Displaying bottom-3 users having minimum in-Degrees\n",
        "mygraph.inDegrees.orderBy(['inDegree'], ascending = [True]).show(3)"
      ]
    },
    {
      "cell_type": "code",
      "source": [
        "#Displaying the number of degrees (out degree + in degree)\n",
        "mygraph.degrees.show(4)\n",
        "\n",
        "#Displaying top-5 users having maximum Degrees\n",
        "mygraph.degrees.orderBy(['Degree'], ascending = [False]).show(5)\n",
        "\n",
        "#Displaying bottom-3 users having minimum Degrees\n",
        "mygraph.degrees.orderBy(['Degree'], ascending = [True]).show(3)"
      ],
      "metadata": {
        "colab": {
          "base_uri": "https://localhost:8080/"
        },
        "id": "INagsBDWTL3J",
        "outputId": "3733003c-0949-4d85-d3bb-613654c0a216"
      },
      "execution_count": null,
      "outputs": [
        {
          "output_type": "stream",
          "name": "stdout",
          "text": [
            "+---+------+\n",
            "| id|degree|\n",
            "+---+------+\n",
            "|  7|     4|\n",
            "| 15|     2|\n",
            "| 11|     2|\n",
            "|  3|     3|\n",
            "+---+------+\n",
            "only showing top 4 rows\n",
            "\n",
            "+---+------+\n",
            "| id|degree|\n",
            "+---+------+\n",
            "|  1|     6|\n",
            "|  7|     4|\n",
            "|  2|     4|\n",
            "|  4|     4|\n",
            "|  3|     3|\n",
            "+---+------+\n",
            "only showing top 5 rows\n",
            "\n",
            "+---+------+\n",
            "| id|degree|\n",
            "+---+------+\n",
            "|  8|     1|\n",
            "| 12|     1|\n",
            "|  9|     2|\n",
            "+---+------+\n",
            "only showing top 3 rows\n",
            "\n"
          ]
        }
      ]
    },
    {
      "cell_type": "markdown",
      "source": [
        "# Filtering the vertices and edges"
      ],
      "metadata": {
        "id": "3sIP-BxqBHpH"
      }
    },
    {
      "cell_type": "code",
      "source": [
        "#Filtering the vertices\n",
        "#Displaying vertices and edges of selected vertices(Male users staying in california)\n",
        "result=mygraph.filterVertices(\"Gender=='Male' and State=='California'\");\n",
        "result.vertices.show()\n",
        "result.edges.show()\n",
        "#Displaying degrees related to the male users staying in california\n",
        "result.degrees.show()\n",
        "result.inDegrees.show()\n",
        "result.outDegrees.show()"
      ],
      "metadata": {
        "colab": {
          "base_uri": "https://localhost:8080/"
        },
        "id": "dSbgdqTvvSFA",
        "outputId": "9826ae77-b1f9-41d7-af3e-432fda2c4756"
      },
      "execution_count": null,
      "outputs": [
        {
          "output_type": "stream",
          "name": "stderr",
          "text": [
            "/usr/local/lib/python3.11/dist-packages/pyspark/sql/dataframe.py:147: UserWarning: DataFrame constructor is internal. Do not directly use it.\n",
            "  warnings.warn(\"DataFrame constructor is internal. Do not directly use it.\")\n"
          ]
        },
        {
          "output_type": "stream",
          "name": "stdout",
          "text": [
            "+---+-----+---+------+----------+\n",
            "| id| Name|Age|Gender|     State|\n",
            "+---+-----+---+------+----------+\n",
            "|  2|David| 16|  Male|California|\n",
            "| 12| Gary| 31|  Male|California|\n",
            "| 15|Henry| 35|  Male|California|\n",
            "+---+-----+---+------+----------+\n",
            "\n",
            "+---+---+--------+\n",
            "|src|dst|relation|\n",
            "+---+---+--------+\n",
            "|  2| 15|  follow|\n",
            "+---+---+--------+\n",
            "\n",
            "+---+------+\n",
            "| id|degree|\n",
            "+---+------+\n",
            "| 15|     1|\n",
            "|  2|     1|\n",
            "+---+------+\n",
            "\n",
            "+---+--------+\n",
            "| id|inDegree|\n",
            "+---+--------+\n",
            "| 15|       1|\n",
            "+---+--------+\n",
            "\n",
            "+---+---------+\n",
            "| id|outDegree|\n",
            "+---+---------+\n",
            "|  2|        1|\n",
            "+---+---------+\n",
            "\n"
          ]
        }
      ]
    },
    {
      "cell_type": "code",
      "source": [
        "#Filtering the edges\n",
        "#Filtering edges and displaying informaion related to \"friend\" relation\n",
        "result2=mygraph.filterEdges(\"relation='friend'\");\n",
        "result2.vertices.show()\n",
        "result2.edges.show()\n",
        "#Displaying degrees related to \"friend\" relation\n",
        "result2.degrees.show()\n",
        "result2.inDegrees.show()\n",
        "result2.outDegrees.show()\n"
      ],
      "metadata": {
        "colab": {
          "base_uri": "https://localhost:8080/"
        },
        "id": "PYhINOm-vskl",
        "outputId": "739c0200-523e-4e01-ffc2-3a8be7fcc81f"
      },
      "execution_count": null,
      "outputs": [
        {
          "output_type": "stream",
          "name": "stderr",
          "text": [
            "/usr/local/lib/python3.11/dist-packages/pyspark/sql/dataframe.py:147: UserWarning: DataFrame constructor is internal. Do not directly use it.\n",
            "  warnings.warn(\"DataFrame constructor is internal. Do not directly use it.\")\n",
            "/usr/local/lib/python3.11/dist-packages/pyspark/sql/dataframe.py:168: UserWarning: DataFrame.sql_ctx is an internal property, and will be removed in future releases. Use DataFrame.sparkSession instead.\n",
            "  warnings.warn(\n"
          ]
        },
        {
          "output_type": "stream",
          "name": "stdout",
          "text": [
            "+---+------+---+------+----------+\n",
            "| id|  Name|Age|Gender|     State|\n",
            "+---+------+---+------+----------+\n",
            "|  1|Wilson| 31|  Male|  New York|\n",
            "|  2| David| 16|  Male|California|\n",
            "|  3| James| 31|  Male|  New York|\n",
            "|  4|  Mary| 29|Female|California|\n",
            "|  5| Smith| 53|  Male|  New York|\n",
            "|  6|Sheena| 27|Female|  New York|\n",
            "|  7|  Rosy| 38|Female|California|\n",
            "|  8|  Luna| 53|Female|  New York|\n",
            "|  9|George| 53|  Male|  New York|\n",
            "| 10| Miara| 51|Female|California|\n",
            "| 11| Peter| 28|  Male|  New York|\n",
            "| 12|  Gary| 31|  Male|California|\n",
            "| 13|  Emma| 32|Female|  New York|\n",
            "| 14| Clara| 30|Female|  New York|\n",
            "| 15| Henry| 35|  Male|California|\n",
            "+---+------+---+------+----------+\n",
            "\n",
            "+---+---+--------+\n",
            "|src|dst|relation|\n",
            "+---+---+--------+\n",
            "|  1|  5|  friend|\n",
            "|  2| 14|  friend|\n",
            "|  3|  6|  friend|\n",
            "+---+---+--------+\n",
            "\n",
            "+---+------+\n",
            "| id|degree|\n",
            "+---+------+\n",
            "|  3|     1|\n",
            "|  5|     1|\n",
            "|  6|     1|\n",
            "|  1|     1|\n",
            "| 14|     1|\n",
            "|  2|     1|\n",
            "+---+------+\n",
            "\n",
            "+---+--------+\n",
            "| id|inDegree|\n",
            "+---+--------+\n",
            "|  5|       1|\n",
            "|  6|       1|\n",
            "| 14|       1|\n",
            "+---+--------+\n",
            "\n",
            "+---+---------+\n",
            "| id|outDegree|\n",
            "+---+---------+\n",
            "|  3|        1|\n",
            "|  1|        1|\n",
            "|  2|        1|\n",
            "+---+---------+\n",
            "\n"
          ]
        }
      ]
    },
    {
      "cell_type": "code",
      "source": [
        "#Filtering both vertices and edges\n",
        "#Displaying \"friend\" relation and both vertices should be \"Male\"\n",
        "result3=mygraph.filterEdges(\"relation='friend'\").filterVertices(\"Gender='Male'\");\n",
        "result3.vertices.show()\n",
        "result3.edges.show()\n",
        "#Displaying degrees related to the friend relation and male users\n",
        "result3.degrees.show()\n",
        "result3.inDegrees.show()\n",
        "result3.outDegrees.show()"
      ],
      "metadata": {
        "colab": {
          "base_uri": "https://localhost:8080/"
        },
        "id": "Cswj9l-HwI9N",
        "outputId": "f6765ede-da42-45f9-c927-110f2c839e5f"
      },
      "execution_count": null,
      "outputs": [
        {
          "output_type": "stream",
          "name": "stderr",
          "text": [
            "/usr/local/lib/python3.11/dist-packages/pyspark/sql/dataframe.py:147: UserWarning: DataFrame constructor is internal. Do not directly use it.\n",
            "  warnings.warn(\"DataFrame constructor is internal. Do not directly use it.\")\n",
            "/usr/local/lib/python3.11/dist-packages/pyspark/sql/dataframe.py:168: UserWarning: DataFrame.sql_ctx is an internal property, and will be removed in future releases. Use DataFrame.sparkSession instead.\n",
            "  warnings.warn(\n"
          ]
        },
        {
          "output_type": "stream",
          "name": "stdout",
          "text": [
            "+---+------+---+------+----------+\n",
            "| id|  Name|Age|Gender|     State|\n",
            "+---+------+---+------+----------+\n",
            "|  1|Wilson| 31|  Male|  New York|\n",
            "|  2| David| 16|  Male|California|\n",
            "|  3| James| 31|  Male|  New York|\n",
            "|  5| Smith| 53|  Male|  New York|\n",
            "|  9|George| 53|  Male|  New York|\n",
            "| 11| Peter| 28|  Male|  New York|\n",
            "| 12|  Gary| 31|  Male|California|\n",
            "| 15| Henry| 35|  Male|California|\n",
            "+---+------+---+------+----------+\n",
            "\n",
            "+---+---+--------+\n",
            "|src|dst|relation|\n",
            "+---+---+--------+\n",
            "|  1|  5|  friend|\n",
            "+---+---+--------+\n",
            "\n",
            "+---+------+\n",
            "| id|degree|\n",
            "+---+------+\n",
            "|  5|     1|\n",
            "|  1|     1|\n",
            "+---+------+\n",
            "\n",
            "+---+--------+\n",
            "| id|inDegree|\n",
            "+---+--------+\n",
            "|  5|       1|\n",
            "+---+--------+\n",
            "\n",
            "+---+---------+\n",
            "| id|outDegree|\n",
            "+---+---------+\n",
            "|  1|        1|\n",
            "+---+---------+\n",
            "\n"
          ]
        }
      ]
    },
    {
      "cell_type": "code",
      "source": [
        "#Practical Exercise: Display degrees, out degree and in degree related to the male users staying in New York\n",
        "#and relation is \"son\"\n"
      ],
      "metadata": {
        "id": "7A4u3wuDVr4A"
      },
      "execution_count": null,
      "outputs": []
    },
    {
      "cell_type": "markdown",
      "source": [
        "# Removing Non-active Vertices"
      ],
      "metadata": {
        "id": "nbHgZWEUMsgm"
      }
    },
    {
      "cell_type": "code",
      "source": [
        "#Removing vertices that are not active\n",
        "result=mygraph.dropIsolatedVertices()\n",
        "result.vertices.show()"
      ],
      "metadata": {
        "colab": {
          "base_uri": "https://localhost:8080/"
        },
        "id": "vXiTLn37UTq6",
        "outputId": "48322bdf-2dc2-4455-df56-1e1f5d2cafff"
      },
      "execution_count": null,
      "outputs": [
        {
          "output_type": "stream",
          "name": "stderr",
          "text": [
            "/usr/local/lib/python3.11/dist-packages/pyspark/sql/dataframe.py:168: UserWarning: DataFrame.sql_ctx is an internal property, and will be removed in future releases. Use DataFrame.sparkSession instead.\n",
            "  warnings.warn(\n"
          ]
        },
        {
          "output_type": "stream",
          "name": "stdout",
          "text": [
            "+---+------+---+------+----------+\n",
            "| id|  Name|Age|Gender|     State|\n",
            "+---+------+---+------+----------+\n",
            "|  1|Wilson| 31|  Male|  New York|\n",
            "|  2| David| 16|  Male|California|\n",
            "|  3| James| 31|  Male|  New York|\n",
            "|  4|  Mary| 29|Female|California|\n",
            "|  5| Smith| 53|  Male|  New York|\n",
            "|  6|Sheena| 27|Female|  New York|\n",
            "|  7|  Rosy| 38|Female|California|\n",
            "|  8|  Luna| 53|Female|  New York|\n",
            "|  9|George| 53|  Male|  New York|\n",
            "| 11| Peter| 28|  Male|  New York|\n",
            "| 12|  Gary| 31|  Male|California|\n",
            "| 14| Clara| 30|Female|  New York|\n",
            "| 15| Henry| 35|  Male|California|\n",
            "+---+------+---+------+----------+\n",
            "\n"
          ]
        }
      ]
    },
    {
      "cell_type": "markdown",
      "source": [
        "# [Page Rank]"
      ],
      "metadata": {
        "id": "3gZC5tNVACMr"
      }
    },
    {
      "cell_type": "markdown",
      "source": [
        "![pagerank1.png](data:image/png;base64,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)"
      ],
      "metadata": {
        "id": "Vj2YyaLf7GUx"
      }
    },
    {
      "cell_type": "code",
      "source": [
        "#The formula for Page Rank is displayed on the top\n",
        "#The Page Rank algorithm weighs the incoming edges to a vertex and transforms it into a score.\n",
        "#The idea is that each incoming edge represents an endorsement and makes the vertex more relevant in the given graph.\n",
        "#For example, in a social network, if a person is followed by various people, he or she will be ranked highly.\n",
        "#Note: The sum of page rank is equal to the number of vertices. Here, 15.\n",
        "#Observe the highest rage rank of id-11. id-11 did not had highest number of in-degrees, out-degrees and degrees\n",
        "#This is because the 11 has relation with 7 and 4\n",
        "#and page rank of 7 and 4 is more\n",
        "x=mygraph.pageRank(maxIter=10)\n",
        "x.vertices.show()\n"
      ],
      "metadata": {
        "colab": {
          "base_uri": "https://localhost:8080/"
        },
        "id": "lu5YoYbPrGxZ",
        "outputId": "6b7dac2a-3846-4814-ef6e-0d42811323b8"
      },
      "execution_count": null,
      "outputs": [
        {
          "output_type": "stream",
          "name": "stdout",
          "text": [
            "+---+------+---+------+----------+------------------+\n",
            "| id|  Name|Age|Gender|     State|          pagerank|\n",
            "+---+------+---+------+----------+------------------+\n",
            "|  8|  Luna| 53|Female|  New York|0.6669903612136878|\n",
            "|  4|  Mary| 29|Female|California|1.3642874012489465|\n",
            "|  6|Sheena| 27|Female|  New York|1.0165971878738898|\n",
            "| 12|  Gary| 31|  Male|California|0.5842251339097996|\n",
            "| 11| Peter| 28|  Male|  New York| 2.384471422165715|\n",
            "| 10| Miara| 51|Female|California|0.5842251339097996|\n",
            "|  5| Smith| 53|  Male|  New York|0.6669903612136878|\n",
            "| 13|  Emma| 32|Female|  New York|0.5842251339097996|\n",
            "| 14| Clara| 30|Female|  New York|1.1394418670733832|\n",
            "|  3| James| 31|  Male|  New York|1.0165971878738898|\n",
            "| 15| Henry| 35|  Male|California| 0.855970963557566|\n",
            "|  9|George| 53|  Male|  New York|1.4489692418379798|\n",
            "|  1|Wilson| 31|  Male|  New York|0.5842251339097996|\n",
            "|  7|  Rosy| 38|Female|California|1.4357931090883682|\n",
            "|  2| David| 16|  Male|California|0.6669903612136878|\n",
            "+---+------+---+------+----------+------------------+\n",
            "\n"
          ]
        }
      ]
    },
    {
      "cell_type": "markdown",
      "source": [
        "# Creating the network diagram\n"
      ],
      "metadata": {
        "id": "0d-tAeeMA-tC"
      }
    },
    {
      "cell_type": "code",
      "execution_count": null,
      "metadata": {
        "colab": {
          "base_uri": "https://localhost:8080/",
          "height": 838
        },
        "id": "t2bRUYF9Y1IV",
        "outputId": "62798128-d689-4ae4-ed8d-f5eb5db9719a"
      },
      "outputs": [
        {
          "output_type": "display_data",
          "data": {
            "text/plain": [
              "<Figure size 900x900 with 1 Axes>"
            ],
            "image/png": "[encoded data removed]"
          },
          "metadata": {}
        }
      ],
      "source": [
        "import networkx as nx\n",
        "import matplotlib.pyplot as plt\n",
        "# the function will plot the source and destination nodes and connect them by meand of undirected line\n",
        "def plot_undirected_graph(edge_list):\n",
        "    plt.figure(figsize=(9,9))\n",
        "    gplot=nx.Graph()\n",
        "    for row in edge_list.select(\"src\", \"dst\").take(1000):\n",
        "        gplot.add_edge(row[\"src\"], row[\"dst\"])\n",
        "    nx.draw(gplot, with_labels=True, font_weight=\"bold\", node_size=500)\n",
        "plot_undirected_graph(mygraph.edges)"
      ]
    },
    {
      "cell_type": "markdown",
      "source": [
        "# Triangle Count: Refer to the diagram below for counting the number of traingles for each count"
      ],
      "metadata": {
        "id": "z43r2pOcAwXm"
      }
    },
    {
      "cell_type": "code",
      "source": [
        "#Triangle counting is commonly used as community detection and counting in a social network graph.\n",
        "#A triangle is a set of three vertices, where each vertex has a relationship to the other two vertices in the triangle.\n",
        "#In a social network community, it’s easy to find a considerable number of triangles connected to each other.\n",
        "\n",
        "\n",
        "mygraph.triangleCount().show()"
      ],
      "metadata": {
        "colab": {
          "base_uri": "https://localhost:8080/"
        },
        "id": "89DeggrCsCkX",
        "outputId": "c16f903c-d682-4eb3-fdd4-448c8f967fbf"
      },
      "execution_count": null,
      "outputs": [
        {
          "output_type": "stream",
          "name": "stderr",
          "text": [
            "/usr/local/lib/python3.10/dist-packages/pyspark/sql/dataframe.py:147: UserWarning: DataFrame constructor is internal. Do not directly use it.\n",
            "  warnings.warn(\"DataFrame constructor is internal. Do not directly use it.\")\n"
          ]
        },
        {
          "output_type": "stream",
          "name": "stdout",
          "text": [
            "+-----+---+------+---+------+----------+\n",
            "|count| id|  Name|Age|Gender|     State|\n",
            "+-----+---+------+---+------+----------+\n",
            "|    2|  7|  Rosy| 38|Female|California|\n",
            "|    1| 15| Henry| 35|  Male|California|\n",
            "|    1| 11| Peter| 28|  Male|  New York|\n",
            "|    1|  3| James| 31|  Male|  New York|\n",
            "|    0|  8|  Luna| 53|Female|  New York|\n",
            "|    1|  5| Smith| 53|  Male|  New York|\n",
            "|    1|  6|Sheena| 27|Female|  New York|\n",
            "|    1|  9|George| 53|  Male|  New York|\n",
            "|    4|  1|Wilson| 31|  Male|  New York|\n",
            "|    0| 10| Miara| 51|Female|California|\n",
            "|    1|  4|  Mary| 29|Female|California|\n",
            "|    0| 12|  Gary| 31|  Male|California|\n",
            "|    0| 13|  Emma| 32|Female|  New York|\n",
            "|    2| 14| Clara| 30|Female|  New York|\n",
            "|    3|  2| David| 16|  Male|California|\n",
            "+-----+---+------+---+------+----------+\n",
            "\n"
          ]
        }
      ]
    },
    {
      "cell_type": "code",
      "source": [
        "#Practical Exercise: Display the triangle count for users staying in New York\n",
        "\n",
        "\n"
      ],
      "metadata": {
        "id": "c-nLn2K2XSkb"
      },
      "execution_count": null,
      "outputs": []
    },
    {
      "cell_type": "code",
      "source": [],
      "metadata": {
        "id": "MuVdo82b7MuQ"
      },
      "execution_count": null,
      "outputs": []
    }
  ],
  "metadata": {
    "colab": {
      "provenance": [],
      "include_colab_link": true
    },
    "kernelspec": {
      "display_name": "Python 3 (ipykernel)",
      "language": "python",
      "name": "python3"
    },
    "language_info": {
      "codemirror_mode": {
        "name": "ipython",
        "version": 3
      },
      "file_extension": ".py",
      "mimetype": "text/x-python",
      "name": "python",
      "nbconvert_exporter": "python",
      "pygments_lexer": "ipython3",
      "version": "3.11.4"
    }
  },
  "nbformat": 4,
  "nbformat_minor": 0
}